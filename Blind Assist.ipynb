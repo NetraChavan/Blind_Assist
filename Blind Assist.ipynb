{
 "cells": [
  {
   "cell_type": "code",
   "execution_count": null,
   "id": "52b6cb82-53b4-4d48-b83a-54ac093d1801",
   "metadata": {},
   "outputs": [
    {
     "data": {
      "text/plain": [
       "2"
      ]
     },
     "execution_count": 6,
     "metadata": {},
     "output_type": "execute_result"
    }
   ],
   "source": [
    "import numpy as np\n",
    "import matplotlib.pyplot as plt\n",
    "import pandas as pd"
   ]
  },
  {
   "cell_type": "code",
   "execution_count": 4,
   "id": "4508ed0c-97be-42c2-b7b6-df2217a6877f",
   "metadata": {},
   "outputs": [
    {
     "data": {
      "text/plain": [
       "{3}"
      ]
     },
     "execution_count": 4,
     "metadata": {},
     "output_type": "execute_result"
    }
   ],
   "source": [
    "data_set = pd.read_csv(\"blindness dectation.csv\")\n",
    "X = data_set.iloc[:, 0:8].values\n",
    "Y= data_set.iloc[:, 8:9].values"
   ]
  },
  {
   "cell_type": "code",
   "execution_count": 28,
   "id": "9ab626e8-6d59-4641-926a-249cae30bde9",
   "metadata": {},
   "outputs": [
    {
     "data": {
      "text/plain": [
       "3"
      ]
     },
     "execution_count": 28,
     "metadata": {},
     "output_type": "execute_result"
    }
   ],
   "source": [
    "print(X)\n",
    "                \n"
   ]
  },
  {
   "cell_type": "code",
   "execution_count": null,
   "id": "d1cd9ced",
   "metadata": {},
   "outputs": [],
   "source": [
    "print(Y)"
   ]
  },
  {
   "cell_type": "code",
   "execution_count": null,
   "id": "3670b8b1",
   "metadata": {},
   "outputs": [],
   "source": [
    "from sklearn.preprocessing import LabelEncoder\n",
    "import pandas as pd\n",
    "\n",
    "from sklearn.preprocessing import LabelEncoder\n",
    "le = LabelEncoder()\n",
    "Y = le.fit_transform(Y)\n",
    "print(Y)"
   ]
  },
  {
   "cell_type": "code",
   "execution_count": null,
   "id": "e352aaec",
   "metadata": {},
   "outputs": [],
   "source": [
    "from sklearn.preprocessing import LabelEncoder\n",
    "import pandas as pd\n",
    "x = pd.DataFrame(X)\n",
    "\n",
    "# Define columns to transform (3rd to 6th columns)\n",
    "columns_to_transform = x.columns[2:8]  # Adjust the column range as needed\n",
    "\n",
    "# Initialize LabelEncoder\n",
    "le = LabelEncoder()\n",
    "\n",
    "# Apply LabelEncoder to specified columns\n",
    "for col in columns_to_transform:\n",
    "    x[col] = le.fit_transform(x[col])\n",
    "\n",
    "print(x)"
   ]
  },
  {
   "cell_type": "code",
   "execution_count": null,
   "id": "947ecb1c",
   "metadata": {},
   "outputs": [],
   "source": [
    "from sklearn.model_selection import train_test_split\n",
    "x_train, x_test, y_train, y_test = train_test_split(x, y, test_size = 0.3, random_state = 42)"
   ]
  },
  {
   "cell_type": "code",
   "execution_count": null,
   "id": "c4b10005",
   "metadata": {},
   "outputs": [],
   "source": [
    "from sklearn.linear_model import LinearRegression\n",
    "regressor = LinearRegression()\n",
    "X1 = x[[1]]  # Independent variable (Age)\n",
    " # Dependent variable (Blindness_Diagnosis)\n",
    "\n",
    "regressor.fit(X1,Y)"
   ]
  },
  {
   "cell_type": "code",
   "execution_count": null,
   "id": "7873ac0f",
   "metadata": {},
   "outputs": [],
   "source": [
    "Y_pred = regressor.predict(X1)"
   ]
  },
  {
   "cell_type": "code",
   "execution_count": null,
   "id": "6126a43f",
   "metadata": {},
   "outputs": [],
   "source": [
    "from sklearn.preprocessing import PolynomialFeatures\n",
    "polynomial_reg = PolynomialFeatures(degree = 6)\n",
    "X_poly = polynomial_reg.fit_transform(X1)\n",
    "\n",
    "linear_reg_2 = LinearRegression()\n",
    "linear_reg_2.fit(X_poly, Y)"
   ]
  },
  {
   "cell_type": "code",
   "execution_count": null,
   "id": "51245b57",
   "metadata": {},
   "outputs": [],
   "source": [
    "plt.scatter(X1,Y, color = 'red')\n",
    "plt.plot(X1, linear_reg_2.predict(X_poly), color='blue')\n",
    "plt.title(\"RBC - Polynomial Regression\")\n",
    "plt.xlabel('Age')\n",
    "plt.ylabel('RBC')\n",
    "plt.show()"
   ]
  }
 ],
 "metadata": {
  "kernelspec": {
   "display_name": "Python 3 (ipykernel)",
   "language": "python",
   "name": "python3"
  },
  "language_info": {
   "codemirror_mode": {
    "name": "ipython",
    "version": 3
   },
   "file_extension": ".py",
   "mimetype": "text/x-python",
   "name": "python",
   "nbconvert_exporter": "python",
   "pygments_lexer": "ipython3",
   "version": "3.12.0"
  }
 },
 "nbformat": 4,
 "nbformat_minor": 5
}
